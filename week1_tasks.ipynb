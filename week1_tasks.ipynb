{
  "nbformat": 4,
  "nbformat_minor": 0,
  "metadata": {
    "colab": {
      "provenance": [],
      "authorship_tag": "ABX9TyMxTzRUCzBdIA4/afioFExg",
      "include_colab_link": true
    },
    "kernelspec": {
      "name": "python3",
      "display_name": "Python 3"
    },
    "language_info": {
      "name": "python"
    }
  },
  "cells": [
    {
      "cell_type": "markdown",
      "metadata": {
        "id": "view-in-github",
        "colab_type": "text"
      },
      "source": [
        "<a href=\"https://colab.research.google.com/github/MrRox1337/ATMO/blob/main/week1_tasks.ipynb\" target=\"_parent\"><img src=\"https://colab.research.google.com/assets/colab-badge.svg\" alt=\"Open In Colab\"/></a>"
      ]
    },
    {
      "cell_type": "markdown",
      "source": [
        "# MCS Python Programming Week 1 Tasks"
      ],
      "metadata": {
        "id": "DLj9lU3T6yl3"
      }
    },
    {
      "cell_type": "code",
      "source": [
        "# Solution 1\n",
        "\n",
        "'''Solution 1_a ) Week 1 python programming tasks\n",
        "Name: Aman Mishra\n",
        "Hosted by: Arfa Kazi\n",
        "Date: 29/06/2024'''\n",
        "\n",
        "print(\"Solution 1_c) hi\") # Solution 1_b) Running"
      ],
      "metadata": {
        "colab": {
          "base_uri": "https://localhost:8080/"
        },
        "id": "md5oQ7426q-h",
        "outputId": "be536db9-37dd-43b0-9e70-453bf62ae2f7"
      },
      "execution_count": null,
      "outputs": [
        {
          "output_type": "stream",
          "name": "stdout",
          "text": [
            "Solution 1_c) hi\n"
          ]
        }
      ]
    },
    {
      "cell_type": "code",
      "source": [
        "# Solution 2\n",
        "\n",
        "# Solution 2_a) Get the user's name\n",
        "name = input(\"Please enter your name: \")\n",
        "\n",
        "# Solution 2_b) Print a personalized greeting\n",
        "print(\"Hello, \" + name + \"!\")\n"
      ],
      "metadata": {
        "colab": {
          "base_uri": "https://localhost:8080/"
        },
        "id": "DlYn0WiF7roh",
        "outputId": "0e7b6c30-5de3-44ea-efb6-39ee1f80e9c2"
      },
      "execution_count": null,
      "outputs": [
        {
          "output_type": "stream",
          "name": "stdout",
          "text": [
            "Please enter your name: Aman\n",
            "Hello, Aman!\n"
          ]
        }
      ]
    },
    {
      "cell_type": "code",
      "source": [
        "# Solution 3\n",
        "\n",
        "# Solution 3_a) Prompt the user to enter three fruits\n",
        "fruit1 = input(\"Enter the first fruit: \")\n",
        "fruit2 = input(\"Enter the second fruit: \")\n",
        "fruit3 = input(\"Enter the third fruit: \")\n",
        "\n",
        "# Solution 3_b) Print the fruits\n",
        "print(fruit1)\n",
        "print(fruit2)\n",
        "print(fruit3)\n"
      ],
      "metadata": {
        "colab": {
          "base_uri": "https://localhost:8080/"
        },
        "id": "SYWqDDxC8E_N",
        "outputId": "125f6c04-ae36-4776-e355-d1caa990d850"
      },
      "execution_count": null,
      "outputs": [
        {
          "output_type": "stream",
          "name": "stdout",
          "text": [
            "Enter the first fruit: Apple\n",
            "Enter the second fruit: Banana\n",
            "Enter the third fruit: Kiwi\n",
            "Apple\n",
            "Banana\n",
            "Kiwi\n"
          ]
        }
      ]
    }
  ]
}