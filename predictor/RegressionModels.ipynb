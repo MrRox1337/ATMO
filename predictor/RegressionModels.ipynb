{
 "cells": [
  {
   "cell_type": "markdown",
   "metadata": {},
   "source": [
    "# Regression Model for ATMO Temperature Prediction "
   ]
  },
  {
   "cell_type": "markdown",
   "metadata": {},
   "source": [
    "Created by Aman Mishra and Visheshh Mundra "
   ]
  },
  {
   "cell_type": "markdown",
   "metadata": {},
   "source": [
    "## Fetch and Clean Data from IoT "
   ]
  },
  {
   "cell_type": "markdown",
   "metadata": {},
   "source": [
    "This section will first access ThingSpeak servers to fetch a certain history of data to learn from the Temperature and Humidity sensors set up inside and outside of a location. Once it receives the information, it will then clean improper entries with missing information and prepare the data for training."
   ]
  },
  {
   "cell_type": "code",
   "execution_count": 45,
   "metadata": {},
   "outputs": [
    {
     "name": "stdout",
     "output_type": "stream",
     "text": [
      "               timestamp  sensor1_humidity  sensor1_temp  sensor2_humidity  \\\n",
      "0   2024-06-06T00:35:26Z               NaN           NaN          67.95340   \n",
      "1   2024-06-06T00:35:42Z               NaN           NaN          67.96265   \n",
      "2   2024-06-06T00:35:58Z               NaN           NaN          67.96159   \n",
      "3   2024-06-06T00:36:13Z               NaN           NaN          68.05897   \n",
      "4   2024-06-06T00:36:29Z               NaN           NaN          67.99745   \n",
      "5   2024-06-06T00:36:45Z               NaN           NaN          67.99278   \n",
      "6   2024-06-06T00:37:00Z          75.45586      19.44275               NaN   \n",
      "7   2024-06-06T00:37:16Z          75.47913      19.44675               NaN   \n",
      "8   2024-06-06T00:37:32Z          75.44203      19.44027               NaN   \n",
      "9   2024-06-06T00:37:47Z          75.54178      19.44923               NaN   \n",
      "10  2024-06-06T00:38:03Z          75.51546      19.44599               NaN   \n",
      "11  2024-06-06T00:38:19Z          75.49429      19.43989               NaN   \n",
      "12  2024-06-06T00:38:34Z          75.50955      19.45133               NaN   \n",
      "13  2024-06-06T00:38:50Z          75.47264      19.43989               NaN   \n",
      "14  2024-06-06T00:39:05Z               NaN           NaN          67.91039   \n",
      "\n",
      "    sensor2_temp  \n",
      "0       20.52631  \n",
      "1       20.50915  \n",
      "2       20.52212  \n",
      "3       20.49770  \n",
      "4       20.49904  \n",
      "5       20.48702  \n",
      "6            NaN  \n",
      "7            NaN  \n",
      "8            NaN  \n",
      "9            NaN  \n",
      "10           NaN  \n",
      "11           NaN  \n",
      "12           NaN  \n",
      "13           NaN  \n",
      "14      20.53127  \n"
     ]
    }
   ],
   "source": [
    "import requests\n",
    "import pandas as pd\n",
    "\n",
    "# Define your ThingSpeak Channel details\n",
    "channel_id = '2556720'\n",
    "read_api_key = 'TF8W9CGKN47UWESL'\n",
    "results = 50000  # Number of results to fetch\n",
    "\n",
    "# Construct the URL for the ThingSpeak API\n",
    "url = f'https://api.thingspeak.com/channels/{channel_id}/feeds.json?api_key={read_api_key}&results={results}'\n",
    "\n",
    "# Fetch the data\n",
    "response = requests.get(url)\n",
    "data = response.json()\n",
    "\n",
    "# Parse the data into a DataFrame\n",
    "feeds = data['feeds']\n",
    "df = pd.DataFrame(feeds)\n",
    "\n",
    "# Extract relevant fields (assuming fields 1 to 4 are used for temperature and humidity from two sensors)\n",
    "df = df[['created_at', 'field1', 'field2', 'field3', 'field4']]\n",
    "df.columns = ['timestamp', 'sensor1_humidity', 'sensor1_temp', 'sensor2_humidity', 'sensor2_temp']\n",
    "\n",
    "# Convert to appropriate data types\n",
    "df['sensor1_humidity'] = pd.to_numeric(df['sensor1_humidity'])\n",
    "df['sensor1_temp'] = pd.to_numeric(df['sensor1_temp'])\n",
    "df['sensor2_humidity'] = pd.to_numeric(df['sensor2_humidity'])\n",
    "df['sensor2_temp'] = pd.to_numeric(df['sensor2_temp'])\n",
    "\n",
    "print(df.head(15))\n"
   ]
  },
  {
   "cell_type": "code",
   "execution_count": 46,
   "metadata": {},
   "outputs": [
    {
     "name": "stdout",
     "output_type": "stream",
     "text": [
      "               timestamp  sensor1_humidity  sensor1_temp  sensor2_humidity  \\\n",
      "0   2024-06-06T00:35:26Z          75.45586      19.44275          67.95340   \n",
      "1   2024-06-06T00:35:42Z          75.45586      19.44275          67.96265   \n",
      "2   2024-06-06T00:35:58Z          75.45586      19.44275          67.96159   \n",
      "3   2024-06-06T00:36:13Z          75.45586      19.44275          68.05897   \n",
      "4   2024-06-06T00:36:29Z          75.45586      19.44275          67.99745   \n",
      "5   2024-06-06T00:36:45Z          75.45586      19.44275          67.99278   \n",
      "6   2024-06-06T00:37:00Z          75.45586      19.44275          67.91039   \n",
      "7   2024-06-06T00:37:16Z          75.47913      19.44675          67.91039   \n",
      "8   2024-06-06T00:37:32Z          75.44203      19.44027          67.91039   \n",
      "9   2024-06-06T00:37:47Z          75.54178      19.44923          67.91039   \n",
      "10  2024-06-06T00:38:03Z          75.51546      19.44599          67.91039   \n",
      "11  2024-06-06T00:38:19Z          75.49429      19.43989          67.91039   \n",
      "12  2024-06-06T00:38:34Z          75.50955      19.45133          67.91039   \n",
      "13  2024-06-06T00:38:50Z          75.47264      19.43989          67.91039   \n",
      "14  2024-06-06T00:39:05Z          75.45938      19.44695          67.91039   \n",
      "\n",
      "    sensor2_temp  servo_temp  \n",
      "0       20.52631   19.485605  \n",
      "1       20.50915   19.485605  \n",
      "2       20.52212   19.485605  \n",
      "3       20.49770   19.485605  \n",
      "4       20.49904   19.485605  \n",
      "5       20.48702   19.485605  \n",
      "6       20.53127   19.485605  \n",
      "7       20.53127   19.476981  \n",
      "8       20.53127   19.490951  \n",
      "9       20.53127   19.471635  \n",
      "10      20.53127   19.478620  \n",
      "11      20.53127   19.491770  \n",
      "12      20.53127   19.467108  \n",
      "13      20.53127   19.491770  \n",
      "14      20.53127   19.476550  \n"
     ]
    }
   ],
   "source": [
    "# Backward fill the NaN values with the first non-NaN value encountered in each column\n",
    "df['sensor1_humidity'].fillna(method='bfill', inplace=True)\n",
    "df['sensor1_temp'].fillna(method='bfill', inplace=True)\n",
    "df['sensor2_humidity'].fillna(method='bfill', inplace=True)\n",
    "df['sensor2_temp'].fillna(method='bfill', inplace=True)\n",
    "\n",
    "# Create the servo_temp column\n",
    "# Normalize sensor1_temp to a range of 0-1\n",
    "normalized_temp = (df['sensor1_temp'] - df['sensor1_temp'].min()) / (df['sensor1_temp'].max() - df['sensor1_temp'].min())\n",
    "\n",
    "# Invert the normalized values\n",
    "inverted_temp = 1 - normalized_temp\n",
    "\n",
    "# Scale the inverted values to the range 18.00 to 22.00\n",
    "df['servo_temp'] = 18.00 + (inverted_temp * 4.00)\n",
    "\n",
    "print(df.head(15))  # Display the first 10 rows for review"
   ]
  },
  {
   "cell_type": "code",
   "execution_count": 47,
   "metadata": {},
   "outputs": [],
   "source": [
    "# Drop any remaining rows with NaN values\n",
    "df.dropna(inplace=True)"
   ]
  },
  {
   "cell_type": "markdown",
   "metadata": {},
   "source": [
    "## Train model for predictions "
   ]
  },
  {
   "cell_type": "markdown",
   "metadata": {},
   "source": [
    "This section is where the script will learn from the habits of the user and the outdoor seasons, and create a prediction of the user's future preferences for indoor temperatures."
   ]
  },
  {
   "cell_type": "markdown",
   "metadata": {},
   "source": [
    "We tested two regression models as we believe regression training will be the best choice over classification training becase we are trying to predict a value over a non-descrete range of temperatures."
   ]
  },
  {
   "cell_type": "code",
   "execution_count": 84,
   "metadata": {},
   "outputs": [],
   "source": [
    "from sklearn.model_selection import train_test_split\n",
    "from sklearn.linear_model import LinearRegression\n",
    "from sklearn.ensemble import RandomForestRegressor\n",
    "from sklearn.metrics import mean_squared_error, accuracy_score\n",
    "from sklearn.preprocessing import StandardScaler"
   ]
  },
  {
   "cell_type": "code",
   "execution_count": 85,
   "metadata": {},
   "outputs": [
    {
     "name": "stdout",
     "output_type": "stream",
     "text": [
      "Mean Squared Error: 0.007266862608707839\n"
     ]
    }
   ],
   "source": [
    "# Prepare the dataset\n",
    "X = df[['sensor1_humidity', 'sensor1_temp', 'sensor2_humidity']]\n",
    "y = df['sensor2_temp']\n",
    "\n",
    "# Split the data into training and testing sets\n",
    "X_train, X_test, y_train, y_test = train_test_split(X, y, test_size=0.2, random_state=42)\n",
    "\n",
    "# Initialize and train the model\n",
    "modelLR = LinearRegression()\n",
    "modelLR.fit(X_train, y_train)\n",
    "\n",
    "# Standardize the features\n",
    "scalerLR = StandardScaler()\n",
    "X_train_scaled = scalerLR.fit_transform(X_train)\n",
    "X_test_scaled = scalerLR.transform(X_test)\n",
    "\n",
    "# Predict and evaluate\n",
    "y_pred = modelLR.predict(X_test)\n",
    "mse = mean_squared_error(y_test, y_pred)\n",
    "\n",
    "print(f'Mean Squared Error: {mse}')\n"
   ]
  },
  {
   "cell_type": "code",
   "execution_count": 86,
   "metadata": {},
   "outputs": [
    {
     "name": "stdout",
     "output_type": "stream",
     "text": [
      "Mean Squared Error: 0.00027313443903056545\n"
     ]
    }
   ],
   "source": [
    "# Prepare the dataset\n",
    "X = df[['sensor1_humidity', 'sensor1_temp', 'sensor2_humidity']]\n",
    "y = df['sensor2_temp']\n",
    "\n",
    "# Split the data into training and testing sets\n",
    "X_train, X_test, y_train, y_test = train_test_split(X, y, test_size=0.2, random_state=42)\n",
    "\n",
    "# Initialize and train the Random Forest model\n",
    "modelRFR = RandomForestRegressor(n_estimators=100, random_state=42)\n",
    "modelRFR.fit(X_train, y_train)\n",
    "\n",
    "# Standardize the features\n",
    "scalerRFR = StandardScaler()\n",
    "X_train_scaled = scalerRFR.fit_transform(X_train)\n",
    "X_test_scaled = scalerRFR.transform(X_test)\n",
    "\n",
    "# Predict and evaluate\n",
    "y_pred = modelRFR.predict(X_test)\n",
    "mse = mean_squared_error(y_test, y_pred)\n",
    "\n",
    "print(f'Mean Squared Error: {mse}')\n"
   ]
  },
  {
   "cell_type": "markdown",
   "metadata": {},
   "source": [
    "Since temperature preferences are not linear, a Linear Regression model for training and predicting is not ideal. So we will use Random Forest Regression."
   ]
  },
  {
   "cell_type": "markdown",
   "metadata": {},
   "source": [
    "## Prediction with Real Data "
   ]
  },
  {
   "cell_type": "code",
   "execution_count": 75,
   "metadata": {},
   "outputs": [],
   "source": [
    "# Example new data for prediction\n",
    "new_data = {\n",
    "    'sensor1_humidity': [65.0, 75.0, 55.0, 69.44],\n",
    "    'sensor1_temp': [22.0, 32.0, 15.0, 19.17],\n",
    "    'sensor2_humidity': [60.0, 40.0, 63.0, 63.52]\n",
    "}\n",
    "new_df = pd.DataFrame(new_data)"
   ]
  },
  {
   "cell_type": "code",
   "execution_count": 79,
   "metadata": {},
   "outputs": [
    {
     "name": "stdout",
     "output_type": "stream",
     "text": [
      "Predicted Sensor 2 Temperature using Linear Regression: [21.66434562 29.92427125 16.23735307 20.00070898]\n"
     ]
    }
   ],
   "source": [
    "# Predict the temperature using Linear Regression\n",
    "predicted_temp = modelLR.predict(new_df)\n",
    "print(f'Predicted Sensor 2 Temperature using Linear Regression: {predicted_temp}')"
   ]
  },
  {
   "cell_type": "code",
   "execution_count": 80,
   "metadata": {},
   "outputs": [
    {
     "name": "stdout",
     "output_type": "stream",
     "text": [
      "Predicted Sensor 2 Temperature using Radom Forest: [19.55642208 20.8607933  19.6588648  20.05720622]\n"
     ]
    }
   ],
   "source": [
    "# Predict the temperature using Random Forest Regression\n",
    "predicted_temp = modelRFR.predict(new_df)\n",
    "print(f'Predicted Sensor 2 Temperature using Radom Forest: {predicted_temp}')"
   ]
  },
  {
   "cell_type": "markdown",
   "metadata": {},
   "source": [
    "## Result "
   ]
  },
  {
   "cell_type": "markdown",
   "metadata": {},
   "source": [
    "We conclude that the best method of predicting temperature for ATMO is Random Forest Regression and it is possible to export this model into further development."
   ]
  },
  {
   "cell_type": "code",
   "execution_count": 88,
   "metadata": {},
   "outputs": [
    {
     "name": "stdout",
     "output_type": "stream",
     "text": [
      "Random Forest model saved as random_forest_model.pkl\n"
     ]
    }
   ],
   "source": [
    "import joblib\n",
    "\n",
    "# Save the Random Forest model to a PKL file\n",
    "joblib.dump(modelRFR, 'random_forest_model.pkl')\n",
    "\n",
    "print(\"Random Forest model saved as random_forest_model.pkl\")"
   ]
  },
  {
   "cell_type": "code",
   "execution_count": 87,
   "metadata": {},
   "outputs": [
    {
     "name": "stdout",
     "output_type": "stream",
     "text": [
      "Scaler saved as scaler.pkl\n"
     ]
    }
   ],
   "source": [
    "# Save the scaler to a PKL file\n",
    "joblib.dump(scalerRFR, 'scaler.pkl')\n",
    "\n",
    "print(\"Scaler saved as scaler.pkl\")"
   ]
  }
 ],
 "metadata": {
  "kernelspec": {
   "display_name": "Python 3",
   "language": "python",
   "name": "python3"
  },
  "language_info": {
   "codemirror_mode": {
    "name": "ipython",
    "version": 3
   },
   "file_extension": ".py",
   "mimetype": "text/x-python",
   "name": "python",
   "nbconvert_exporter": "python",
   "pygments_lexer": "ipython3",
   "version": "3.7.3"
  }
 },
 "nbformat": 4,
 "nbformat_minor": 2
}
